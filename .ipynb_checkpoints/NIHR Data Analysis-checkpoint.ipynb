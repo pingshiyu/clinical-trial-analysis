{
 "cells": [
  {
   "cell_type": "markdown",
   "metadata": {},
   "source": [
    "## NIHR Data Analysis\n",
    "Analysis on the [NIHR Funding and Awards](https://fundingawards.nihr.ac.uk/search) dataset."
   ]
  },
  {
   "cell_type": "markdown",
   "metadata": {},
   "source": [
    "### Preliminary Analysis\n",
    "The first steps is to get a feel for the data. First we want to extract some initial information, for example:\n",
    "* How many awards per year?\n",
    "* When were these awarded? (Histogram, for example)\n",
    "* How much £££ was awarded per year? \n",
    "* Which schools were awarded funding? (Distribution of funding across institutions) \n",
    "* Who were these awarded to? Professors, non-professors, and its distribution.\n",
    "* Ranking of funding across areas and locations - geography links\n",
    "* Funding changes year on year - comparison with historical data.\n"
   ]
  },
  {
   "cell_type": "code",
   "execution_count": 2,
   "metadata": {},
   "outputs": [],
   "source": [
    "# standard libraries and tools to perform analysis\n",
    "import pandas as pd, numpy as np"
   ]
  },
  {
   "cell_type": "code",
   "execution_count": null,
   "metadata": {},
   "outputs": [],
   "source": []
  }
 ],
 "metadata": {
  "kernelspec": {
   "display_name": "Python 3",
   "language": "python",
   "name": "python3"
  },
  "language_info": {
   "codemirror_mode": {
    "name": "ipython",
    "version": 3
   },
   "file_extension": ".py",
   "mimetype": "text/x-python",
   "name": "python",
   "nbconvert_exporter": "python",
   "pygments_lexer": "ipython3",
   "version": "3.7.3"
  }
 },
 "nbformat": 4,
 "nbformat_minor": 2
}
